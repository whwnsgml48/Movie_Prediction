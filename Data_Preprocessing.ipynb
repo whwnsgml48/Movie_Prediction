{
 "cells": [
  {
   "cell_type": "markdown",
   "metadata": {},
   "source": [
    "# Data_Preprocessing \n",
    "\n",
    "데이터 분석에 들어가기 앞서 주어진 데이터를 병합하는 과정의 코드이다. \n",
    "파일 형식 97-2003 xls 형식으로 기존에 주로 사용하던 csv파일이 아니라 data load하는 과정에서 시행착오가 많았다. \n",
    "\n",
    "xls 형식의 파일을 메모장으로 열어본 결과 html 형식으로 구성됨을 확인하고 pandas 모듈의 read_html메소드를 사용하여 이를 해결하였다. "
   ]
  },
  {
   "cell_type": "code",
   "execution_count": 1,
   "metadata": {
    "collapsed": true
   },
   "outputs": [],
   "source": [
    "import numpy as np\n",
    "import pandas as pd\n",
    "import os "
   ]
  },
  {
   "cell_type": "code",
   "execution_count": 2,
   "metadata": {
    "collapsed": false
   },
   "outputs": [
    {
     "data": {
      "text/plain": [
       "'./futures_data\\\\15.01.01-01.07.xls'"
      ]
     },
     "execution_count": 2,
     "metadata": {},
     "output_type": "execute_result"
    }
   ],
   "source": [
    "data_dir = './futures_data'\n",
    "files = os.listdir(data_dir)\n",
    "\n",
    "test = files[0]\n",
    "test_dir = os.path.join(data_dir, test)\n",
    "test_dir"
   ]
  },
  {
   "cell_type": "code",
   "execution_count": null,
   "metadata": {
    "collapsed": false
   },
   "outputs": [],
   "source": [
    "new_col = ['순위','영화명','개봉일','매출액','매출액점유율','누적매출액',\n",
    "          '관객수','누적관객수','스크린수','상영횟수','대표국적','국적',\n",
    "          '제작사','배급사','등급','장르','감독','배우']\n",
    "\n",
    "def cvt_xls_to_csv(file_name):\n",
    "    date = file_name[:-4]\n",
    "    date = date[15:]\n",
    "    df = pd.read_html(file_name, encoding='utf8')\n",
    "    df = df[0]\n",
    "    df.columns = new_col\n",
    "    \n",
    "    df.to_csv('./csv/'+date+'.csv', encoding = 'utf8')"
   ]
  },
  {
   "cell_type": "code",
   "execution_count": null,
   "metadata": {
    "collapsed": false
   },
   "outputs": [],
   "source": [
    "master_dir = './futures_data/'\n",
    "files = os.listdir(data_dir)\n",
    "\n",
    "for file in files:\n",
    "    file_dir = master_dir + file \n",
    "    cvt_xls_to_csv(file_dir)\n",
    "    "
   ]
  },
  {
   "cell_type": "code",
   "execution_count": null,
   "metadata": {
    "collapsed": false
   },
   "outputs": [],
   "source": [
    "#data 병합 \n",
    "file_master = './csv'\n",
    "files_name = os.listdir(file_master)\n",
    "\n",
    "df = pd.read_csv(file_master + '/' + files_name[0])\n",
    "df['date'] = files_name[0][:-4]\n",
    "print(len(df))\n",
    "for file_name in files_name[1:]:\n",
    "    \n",
    "    temp = pd.read_csv(file_master + '/' + file_name)\n",
    "    temp['date'] = file_name[:-4]\n",
    "    df = pd.concat([df, temp])\n",
    "    print(file_name[:-4], len(temp), len(df))"
   ]
  },
  {
   "cell_type": "code",
   "execution_count": null,
   "metadata": {
    "collapsed": false
   },
   "outputs": [],
   "source": [
    "#각 파일별 합계 행 삭제 \n",
    "df = df[pd.notnull(df['영화명'])]\n",
    "df.to_csv('total.csv')"
   ]
  }
 ],
 "metadata": {
  "anaconda-cloud": {},
  "kernelspec": {
   "display_name": "Python [default]",
   "language": "python",
   "name": "python3"
  },
  "language_info": {
   "codemirror_mode": {
    "name": "ipython",
    "version": 3
   },
   "file_extension": ".py",
   "mimetype": "text/x-python",
   "name": "python",
   "nbconvert_exporter": "python",
   "pygments_lexer": "ipython3",
   "version": "3.5.2"
  }
 },
 "nbformat": 4,
 "nbformat_minor": 1
}
