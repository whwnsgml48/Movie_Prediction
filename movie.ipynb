{
 "cells": [
  {
   "cell_type": "code",
   "execution_count": 1,
   "metadata": {
    "collapsed": true
   },
   "outputs": [],
   "source": [
    "import numpy as np \n",
    "import pandas as pd \n",
    "import tensorflow as tf "
   ]
  },
  {
   "cell_type": "code",
   "execution_count": 2,
   "metadata": {
    "collapsed": false
   },
   "outputs": [
    {
     "data": {
      "text/html": [
       "<div>\n",
       "<style>\n",
       "    .dataframe thead tr:only-child th {\n",
       "        text-align: right;\n",
       "    }\n",
       "\n",
       "    .dataframe thead th {\n",
       "        text-align: left;\n",
       "    }\n",
       "\n",
       "    .dataframe tbody tr th {\n",
       "        vertical-align: top;\n",
       "    }\n",
       "</style>\n",
       "<table border=\"1\" class=\"dataframe\">\n",
       "  <thead>\n",
       "    <tr style=\"text-align: right;\">\n",
       "      <th></th>\n",
       "      <th>Movie</th>\n",
       "      <th>Playdate</th>\n",
       "      <th>Play_month</th>\n",
       "      <th>Weekdays</th>\n",
       "      <th>Rep_Nationality</th>\n",
       "      <th>Grade</th>\n",
       "      <th>Rep_production</th>\n",
       "      <th>Rep_distributor</th>\n",
       "      <th>Rep_genre</th>\n",
       "      <th>Rep_director</th>\n",
       "      <th>...</th>\n",
       "      <th>Week2_sales_share</th>\n",
       "      <th>Week2_audience</th>\n",
       "      <th>Week2_screen</th>\n",
       "      <th>Week2_screening</th>\n",
       "      <th>Week3_holiday</th>\n",
       "      <th>Week4_holiday</th>\n",
       "      <th>Week2_Cum_audience</th>\n",
       "      <th>Week3_Cum_audience</th>\n",
       "      <th>Week4_Cum_audience</th>\n",
       "      <th>Week5_Cum_audience</th>\n",
       "    </tr>\n",
       "  </thead>\n",
       "  <tbody>\n",
       "    <tr>\n",
       "      <th>0</th>\n",
       "      <td>명량</td>\n",
       "      <td>2014-07-30</td>\n",
       "      <td>7</td>\n",
       "      <td>수요일</td>\n",
       "      <td>한국</td>\n",
       "      <td>15세이상관람가</td>\n",
       "      <td>㈜빅스톤픽처스</td>\n",
       "      <td>씨제이이앤엠(주)</td>\n",
       "      <td>액션</td>\n",
       "      <td>김한민</td>\n",
       "      <td>...</td>\n",
       "      <td>0.484600</td>\n",
       "      <td>4814896</td>\n",
       "      <td>2185</td>\n",
       "      <td>46772</td>\n",
       "      <td>3</td>\n",
       "      <td>2</td>\n",
       "      <td>12122075</td>\n",
       "      <td>15540940</td>\n",
       "      <td>16556133</td>\n",
       "      <td>17034795</td>\n",
       "    </tr>\n",
       "    <tr>\n",
       "      <th>1</th>\n",
       "      <td>도둑들</td>\n",
       "      <td>2012-07-25</td>\n",
       "      <td>7</td>\n",
       "      <td>수요일</td>\n",
       "      <td>한국</td>\n",
       "      <td>15세이상관람가</td>\n",
       "      <td>(주)케이퍼필름</td>\n",
       "      <td>(주)쇼박스</td>\n",
       "      <td>범죄</td>\n",
       "      <td>최동훈</td>\n",
       "      <td>...</td>\n",
       "      <td>0.436286</td>\n",
       "      <td>3488656</td>\n",
       "      <td>1737</td>\n",
       "      <td>34679</td>\n",
       "      <td>3</td>\n",
       "      <td>2</td>\n",
       "      <td>7837525</td>\n",
       "      <td>10079961</td>\n",
       "      <td>11481440</td>\n",
       "      <td>12270974</td>\n",
       "    </tr>\n",
       "    <tr>\n",
       "      <th>2</th>\n",
       "      <td>베테랑</td>\n",
       "      <td>2015-08-05</td>\n",
       "      <td>8</td>\n",
       "      <td>수요일</td>\n",
       "      <td>한국</td>\n",
       "      <td>15세이상관람가</td>\n",
       "      <td>(주)외유내강</td>\n",
       "      <td>씨제이이앤엠(주)</td>\n",
       "      <td>액션</td>\n",
       "      <td>류승완</td>\n",
       "      <td>...</td>\n",
       "      <td>0.475000</td>\n",
       "      <td>3491532</td>\n",
       "      <td>1115</td>\n",
       "      <td>36383</td>\n",
       "      <td>2</td>\n",
       "      <td>2</td>\n",
       "      <td>7458012</td>\n",
       "      <td>9579065</td>\n",
       "      <td>11176810</td>\n",
       "      <td>12048616</td>\n",
       "    </tr>\n",
       "    <tr>\n",
       "      <th>3</th>\n",
       "      <td>암살</td>\n",
       "      <td>2015-07-22</td>\n",
       "      <td>7</td>\n",
       "      <td>수요일</td>\n",
       "      <td>한국</td>\n",
       "      <td>15세이상관람가</td>\n",
       "      <td>(주)케이퍼필름</td>\n",
       "      <td>(주)쇼박스</td>\n",
       "      <td>액션</td>\n",
       "      <td>최동훈</td>\n",
       "      <td>...</td>\n",
       "      <td>0.326000</td>\n",
       "      <td>2960563</td>\n",
       "      <td>1094</td>\n",
       "      <td>32184</td>\n",
       "      <td>2</td>\n",
       "      <td>2</td>\n",
       "      <td>7647796</td>\n",
       "      <td>9491708</td>\n",
       "      <td>11015334</td>\n",
       "      <td>11793736</td>\n",
       "    </tr>\n",
       "    <tr>\n",
       "      <th>4</th>\n",
       "      <td>국제시장</td>\n",
       "      <td>2014-12-17</td>\n",
       "      <td>12</td>\n",
       "      <td>수요일</td>\n",
       "      <td>한국</td>\n",
       "      <td>12세이상관람가</td>\n",
       "      <td>㈜제이케이필름 JK Film</td>\n",
       "      <td>씨제이이앤엠(주)</td>\n",
       "      <td>드라마</td>\n",
       "      <td>윤제균</td>\n",
       "      <td>...</td>\n",
       "      <td>0.392800</td>\n",
       "      <td>3032951</td>\n",
       "      <td>1821</td>\n",
       "      <td>28139</td>\n",
       "      <td>3</td>\n",
       "      <td>2</td>\n",
       "      <td>5312629</td>\n",
       "      <td>8329563</td>\n",
       "      <td>10146564</td>\n",
       "      <td>11405561</td>\n",
       "    </tr>\n",
       "  </tbody>\n",
       "</table>\n",
       "<p>5 rows × 42 columns</p>\n",
       "</div>"
      ],
      "text/plain": [
       "  Movie    Playdate  Play_month Weekdays Rep_Nationality     Grade  \\\n",
       "0    명량  2014-07-30           7      수요일              한국  15세이상관람가   \n",
       "1   도둑들  2012-07-25           7      수요일              한국  15세이상관람가   \n",
       "2   베테랑  2015-08-05           8      수요일              한국  15세이상관람가   \n",
       "3    암살  2015-07-22           7      수요일              한국  15세이상관람가   \n",
       "4  국제시장  2014-12-17          12      수요일              한국  12세이상관람가   \n",
       "\n",
       "    Rep_production Rep_distributor Rep_genre Rep_director         ...          \\\n",
       "0          ㈜빅스톤픽처스       씨제이이앤엠(주)        액션          김한민         ...           \n",
       "1         (주)케이퍼필름          (주)쇼박스        범죄          최동훈         ...           \n",
       "2          (주)외유내강       씨제이이앤엠(주)        액션          류승완         ...           \n",
       "3         (주)케이퍼필름          (주)쇼박스        액션          최동훈         ...           \n",
       "4  ㈜제이케이필름 JK Film       씨제이이앤엠(주)       드라마          윤제균         ...           \n",
       "\n",
       "  Week2_sales_share Week2_audience Week2_screen Week2_screening Week3_holiday  \\\n",
       "0          0.484600        4814896         2185           46772             3   \n",
       "1          0.436286        3488656         1737           34679             3   \n",
       "2          0.475000        3491532         1115           36383             2   \n",
       "3          0.326000        2960563         1094           32184             2   \n",
       "4          0.392800        3032951         1821           28139             3   \n",
       "\n",
       "   Week4_holiday  Week2_Cum_audience  Week3_Cum_audience  Week4_Cum_audience  \\\n",
       "0              2            12122075            15540940            16556133   \n",
       "1              2             7837525            10079961            11481440   \n",
       "2              2             7458012             9579065            11176810   \n",
       "3              2             7647796             9491708            11015334   \n",
       "4              2             5312629             8329563            10146564   \n",
       "\n",
       "   Week5_Cum_audience  \n",
       "0            17034795  \n",
       "1            12270974  \n",
       "2            12048616  \n",
       "3            11793736  \n",
       "4            11405561  \n",
       "\n",
       "[5 rows x 42 columns]"
      ]
     },
     "execution_count": 2,
     "metadata": {},
     "output_type": "execute_result"
    }
   ],
   "source": [
    "#data load \n",
    "df = pd.read_csv('Train.csv', encoding = 'cp949')\n",
    "df.head()"
   ]
  },
  {
   "cell_type": "markdown",
   "metadata": {},
   "source": [
    "## 변수 설명\n",
    "1. Movie : 영화 제목\n",
    "\n",
    "2. Playdate : 개봉 날짜\n",
    "   Play_month : 개봉 월\n",
    "   Weekdays : 개봉 요일\n",
    "\n",
    "3. Rep_Nationality : 대표 국가\n",
    "\n",
    "4. Grade : 관람 등급\n",
    "\n",
    "5. Rep_production : 대표 제작사\n",
    "   Prod_grade : 제작사 등급\n",
    "   Prod_avg_grade : 제작사 평균 등급\n",
    "                    (제작사는 시나리오 선정, 투자자 물색, 배우 캐스팅 등의 역할을 맡는다.\n",
    "                     따라서 배우 등급, 배급사 등급, 감독 등급, 영화 평점 등을 반영하여 계산하였다.)\n",
    "\n",
    "6. Rep_distribution : 대표 배급사\n",
    "   Dist_grade : 배급사 등급\n",
    "                (우리나라의 경우 배급사가 메인 투자자인 경우가 많으며, 배급사가 스크린을 얼마나 확보하느냐에 따라 영화의 성과가 결정된다.\n",
    "                 따라서 배급사에 따른 개봉 첫째주의 스크린 수를 파악하여 이를 배급사의 등급으로 대체하였다.)\n",
    "\n",
    "7. Rep_genre : 대표 장르\n",
    "\n",
    "8. Rep_director : 대표 감독\n",
    "   Direc_avg_grade : 감독 평균 등급\n",
    "                     (감독 등급은 2년간 감독한 영화의 평균 평점으로 대체하였다.\n",
    "\n",
    "9. Rep_actor1 : 대표 배우1\n",
    "   Actor1_grade : 대표 배우1 등급\n",
    "   Rep_actor2 : 대표 배우2\n",
    "   Actor2_grade : 대표 배우2 등급\n",
    "   Rep_actor3 : 대표 배우3\n",
    "   Actor3_grade : 대표 배우3 등급\n",
    "   Rep_actor4 : 대표 배우4\n",
    "   Actor4_grade : 대표 배우4 등급\n",
    "   Rep_actor5 : 대표 배우5\n",
    "   Actor5_grade : 대표 배우5 등급\n",
    "                  (배우의 등급은 2년간 배우가 출연한 영화들의 2주차 평균 누적관객수를 변환한 값이다.)\n",
    "\n",
    "10. Critic_star : 평론가 평점\n",
    "\n",
    "11. Netizen_star_before_play : 개봉 전 네티즌 평점\n",
    "    Num_of_participants_before_play : 개봉 전 평가 참여 인원\n",
    "\n",
    "12. Netizen_star_after_play : 개봉 후 네티즌 평점\n",
    "\n",
    "13. Diff_netizen_star : 개봉 전/후 평점 차이\n",
    "\n",
    "14. Expect_index_wannasee : 개봉 전 기대지수(보고싶어요)\n",
    "    Expect_index_notreally : 개봉 전 기대지수(글쎄요)\n",
    "    Ratio_notreally : 글쎼요 비율\n",
    "\n",
    "15. Week1_isplay : 1주차 상영 여부\n",
    "    Week1_playdays : 1주차 상영일수\n",
    "    Week1_holiday : 1주차 공휴일수(주말 포함)\n",
    "    Week1_sales : 1주차 매출액\n",
    "    Week1_sales_share : 1주차 매출액 점유율\n",
    "    Week1_audience : 1주차 관객수\n",
    "    Week1_screen : 1주차 스크린수\n",
    "    Week1_Screening : 1주차 상영횟수\n",
    "\n",
    "## 과제 \n",
    "\n",
    "킹스맨2  0927 개봉\n",
    "남한산성 0930 개봉\n",
    "넛잡 1003 개봉\n",
    "\n",
    "\n",
    "**데이터를 기준으로 킹스맨2, 남한산성 => 1주차 데이터 안 스고 2주차 누적 관객 맞추기, 넛잡 => 1주차 데이터 안쓰고 1주차 누적관객수 맞추기 **\n",
    "\n",
    "각각에 대한 모델링을 따로 할필요가 있다. \n",
    "\n"
   ]
  },
  {
   "cell_type": "code",
   "execution_count": 4,
   "metadata": {
    "collapsed": false
   },
   "outputs": [
    {
     "data": {
      "image/png": "[encoded data removed]",
      "text/plain": [
       "<matplotlib.figure.Figure at 0x133c2a16fd0>"
      ]
     },
     "metadata": {},
     "output_type": "display_data"
    }
   ],
   "source": [
    "#예측 변수에 대한 시각화\n",
    "import matplotlib.pyplot as plt \n",
    "\n",
    "audience_list = ['Week'+str(i)+'_audience' for i in range(1,3)]\n",
    "audience_data = df[audience_list]\n",
    "\n",
    "audience_data.boxplot()\n",
    "plt.show()\n",
    "#관객수가 1주차가 좀더 많은 것을 볼수 있다. "
   ]
  },
  {
   "cell_type": "code",
   "execution_count": null,
   "metadata": {
    "collapsed": false
   },
   "outputs": [],
   "source": [
    "screen_list = ['Week'+str(i)+'_screen' for i in range(1,6)]\n",
    "sales_list = ['Week'+str(i)+'_sales' for i in range(1,6)]\n",
    "screening_list = ['Week'+str(i)+'_screening' for i in range(1,6)]\n",
    "\n",
    "d_list = audience_list+screen_list+sales_list+screening_list\n",
    "d_list = ['Movie'] + d_list\n",
    "data = df[d_list]\n",
    "data_1 = pd.melt(data, id_vars=['Movie'])\n",
    "data_2 = pd.DataFrame(data_1['variable'].str.split('_').tolist(), columns = ['Week','gubun'])"
   ]
  },
  {
   "cell_type": "code",
   "execution_count": null,
   "metadata": {
    "collapsed": false
   },
   "outputs": [],
   "source": [
    "data_3 = pd.concat([data_1,data_2], axis = 1)"
   ]
  },
  {
   "cell_type": "code",
   "execution_count": null,
   "metadata": {
    "collapsed": false
   },
   "outputs": [],
   "source": [
    "data_3.drop(['variable'], axis = 1, inplace = True, errors = 'ignore')\n",
    "#data 저장 "
   ]
  },
  {
   "cell_type": "code",
   "execution_count": 5,
   "metadata": {
    "collapsed": false
   },
   "outputs": [
    {
     "data": {
      "image/png": "[encoded data removed]",
      "text/plain": [
       "<matplotlib.figure.Figure at 0x133c2b24438>"
      ]
     },
     "metadata": {},
     "output_type": "display_data"
    }
   ],
   "source": [
    "#각 범주형 범수에 대해 파생변수를 생성한다. \n",
    "#1. Playdate \n",
    "#개봉일의 경우 개봉일에 따라 관객수에 영향을 끼친다는 것은 말이 되지 않는다고 판단하였다. \n",
    "#하지만 개봉일에 연휴가 낀 경우등 다른 변수에 의해 이 변수가 유의해질 수 있다고 생각했다. \n",
    "#그렇지만 연휴 등 다른 변수의 영향을 고려하기 위해 이에 해당하는 변수를 생성하기는 적합하지 \n",
    "#않다고 판단하여 이를 설명변수에서 제외하기로 했다. \n",
    "\n",
    "#2. Playmonth \n",
    "#개봉월에 대한 정보이다. 이 데이터를 활용하여 영화 관객수의 계절성을 파악해볼 수 있을 것이라고 \n",
    "#기대한다. \n",
    "#따라서 개봉월에 따른 첫주차 관객의 수를 평균으로 한 plot을 그려보고 계절성을 파악한다. \n",
    "temp = df[['Play_month', 'Week1_audience']]\n",
    "temp = temp.groupby(['Play_month'], as_index = False).median()\n",
    "#outlier로 정보가 왜곡될수 있으므로 median을 이용하여 aggregate한다. \n",
    "plt.plot(temp['Play_month'],temp['Week1_audience'])\n",
    "plt.show()\n",
    "#겨울 방학 시즌의 관객수가 많은 것을 볼 수 있다. "
   ]
  },
  {
   "cell_type": "code",
   "execution_count": 6,
   "metadata": {
    "collapsed": false
   },
   "outputs": [],
   "source": [
    "year = df['Playdate'].str.split('-')\n",
    "year = [i[0] for i in year];year\n",
    "df['year']= year"
   ]
  },
  {
   "cell_type": "code",
   "execution_count": 10,
   "metadata": {
    "collapsed": false
   },
   "outputs": [],
   "source": [
    "temp= df[['year','Play_month', 'Week1_audience']]\n",
    "temp = temp.groupby(['year','Play_month'], as_index = False).median()\n",
    "\n",
    "temp\n",
    "temp_time = temp[['year','Play_month']]\n",
    "temp_time.columns= ['year','month']\n",
    "temp_time['day']=1#default로 둠 \n",
    "temp_time = pd.to_datetime(temp_time, format = '%Y%m')\n",
    "temp_time.columns = ['date']\n",
    "temp = pd.concat([temp,temp_time], axis=1)\n"
   ]
  },
  {
   "cell_type": "code",
   "execution_count": 15,
   "metadata": {
    "collapsed": false
   },
   "outputs": [
    {
     "data": {
      "text/html": [
       "<div>\n",
       "<style>\n",
       "    .dataframe thead tr:only-child th {\n",
       "        text-align: right;\n",
       "    }\n",
       "\n",
       "    .dataframe thead th {\n",
       "        text-align: left;\n",
       "    }\n",
       "\n",
       "    .dataframe tbody tr th {\n",
       "        vertical-align: top;\n",
       "    }\n",
       "</style>\n",
       "<table border=\"1\" class=\"dataframe\">\n",
       "  <thead>\n",
       "    <tr style=\"text-align: right;\">\n",
       "      <th></th>\n",
       "      <th>date</th>\n",
       "      <th>week1</th>\n",
       "    </tr>\n",
       "  </thead>\n",
       "  <tbody>\n",
       "    <tr>\n",
       "      <th>0</th>\n",
       "      <td>2009-06-01</td>\n",
       "      <td>3625315.0</td>\n",
       "    </tr>\n",
       "    <tr>\n",
       "      <th>1</th>\n",
       "      <td>2009-12-01</td>\n",
       "      <td>2182024.0</td>\n",
       "    </tr>\n",
       "    <tr>\n",
       "      <th>2</th>\n",
       "      <td>2010-07-01</td>\n",
       "      <td>1718018.0</td>\n",
       "    </tr>\n",
       "    <tr>\n",
       "      <th>3</th>\n",
       "      <td>2010-08-01</td>\n",
       "      <td>1455802.0</td>\n",
       "    </tr>\n",
       "    <tr>\n",
       "      <th>4</th>\n",
       "      <td>2011-08-01</td>\n",
       "      <td>2074643.0</td>\n",
       "    </tr>\n",
       "  </tbody>\n",
       "</table>\n",
       "</div>"
      ],
      "text/plain": [
       "        date      week1\n",
       "0 2009-06-01  3625315.0\n",
       "1 2009-12-01  2182024.0\n",
       "2 2010-07-01  1718018.0\n",
       "3 2010-08-01  1455802.0\n",
       "4 2011-08-01  2074643.0"
      ]
     },
     "execution_count": 15,
     "metadata": {},
     "output_type": "execute_result"
    }
   ],
   "source": [
    "temp.head()"
   ]
  },
  {
   "cell_type": "code",
   "execution_count": 14,
   "metadata": {
    "collapsed": false
   },
   "outputs": [
    {
     "data": {
      "image/png": "[encoded data removed]",
      "text/plain": [
       "<matplotlib.figure.Figure at 0x133c2b90978>"
      ]
     },
     "metadata": {},
     "output_type": "display_data"
    },
    {
     "data": {
      "text/plain": [
       "<matplotlib.figure.Figure at 0x133c2b85080>"
      ]
     },
     "metadata": {},
     "output_type": "display_data"
    }
   ],
   "source": [
    "#temp.columns = ['year','month','week1','date']\n",
    "temp=temp[['date','week1']]\n",
    "plt.plot(temp['date'],temp['week1'])\n",
    "plt.figure(figsize = (100,100))\n",
    "plt.show()\n",
    "#3년치를 보면 겨울 시즌에 관객수가 많다는 점을 확실히 알 수 있다. \n",
    "#따라서 개봉월에 대한 정보는 반영하도록 한다.\n",
    "\n",
    "#### insight : 겨울에 관객수가 많음. "
   ]
  },
  {
   "cell_type": "code",
   "execution_count": null,
   "metadata": {
    "collapsed": false
   },
   "outputs": [],
   "source": [
    "temp= df[['year','Play_month', 'Week5_Cum_audience']]\n",
    "temp = temp.groupby(['year','Play_month'], as_index = False).median()\n",
    "\n",
    "temp\n",
    "temp_time = temp[['year','Play_month']]\n",
    "temp_time.columns= ['year','month']\n",
    "temp_time['day']=1#default로 둠 \n",
    "temp_time = pd.to_datetime(temp_time, format = '%Y%m')\n",
    "temp_time.columns = ['date']\n",
    "temp = pd.concat([temp,temp_time], axis=1)\n"
   ]
  },
  {
   "cell_type": "code",
   "execution_count": null,
   "metadata": {
    "collapsed": false
   },
   "outputs": [],
   "source": [
    "#temp.columns = ['year','month','cum','date']\n",
    "temp=temp[['date','cum']]\n",
    "plt.plot(temp['date'],temp['cum'])\n",
    "plt.figure(figsize = (100,100))\n",
    "plt.show()\n",
    "#3년치를 보면 겨울 시즌에 관객수가 많다는 점을 확실히 알 수 있다. \n",
    "#따라서 개봉월에 대한 정보는 반영하도록 한다.\n",
    "\n",
    "#### insight : 겨울에 관객수가 많음. (2~3월)\n"
   ]
  },
  {
   "cell_type": "code",
   "execution_count": null,
   "metadata": {
    "collapsed": false,
    "scrolled": true
   },
   "outputs": [],
   "source": [
    "# 3. Weekdays \n",
    "#개봉일의 요일 정보를 담고 있다. \n",
    "#개봉일 요일 정보는 첫째주 관객수와 관련되어 있을 수 있다는 생각이 들어 이를 확인해본다.\n",
    "\n",
    "temp = df[['Weekdays', 'Week1_audience']]\n",
    "temp = temp.groupby(['Weekdays'], as_index = False).median()\n",
    "print(temp)\n",
    "#단순히 결과를 보면 수목이 월등하게 많기 때문에 어느정도 관련이 있다고 생각할 수 있지만 \n",
    "#데이터를 살펴보니 수,목에 해당하지 않는 영화는 59개만 존재함을 알 수 있다. \n",
    "#따라서 단순히 이 결과만을 보고 개봉요일이 영화관객수에 영향을 끼친다고 판단하기 어렵다\n",
    "#따라서 이를 삭제한다. "
   ]
  },
  {
   "cell_type": "code",
   "execution_count": null,
   "metadata": {
    "collapsed": false
   },
   "outputs": [],
   "source": [
    "# 4. Rep_Nationality\n",
    "#영화의 대표국적을 나타낸다. 대표국적은 꽤 영향을 끼치수 있다고 생각했다. \n",
    "#왜냐하면 우리나라는 스크린쿼터제가 적용되고 있는 나라중 하나이기 때문이다. \n",
    "#스크린쿼터제란 미국 및 유럽 영화들의 지나친 비중과 상영횟수를 방지하여 한국여화를 보호하는 \n",
    "#법으로 규제화한 것이다.\n",
    "nation_temp = df[['Movie','Rep_Nationality','Week5_Cum_audience']]\n",
    "nation_temp.groupby(['Rep_Nationality'], as_index = False).count()\n",
    "nation_temp1= nation_temp.groupby(['Rep_Nationality'], as_index=False).agg({'Movie':'count','Week5_Cum_audience':'median'})"
   ]
  },
  {
   "cell_type": "code",
   "execution_count": null,
   "metadata": {
    "collapsed": false
   },
   "outputs": [],
   "source": [
    "nation_temp1\n",
    "#대표국적의 경우 미국/캐나다/호주권 영화와 한국권 영화가 강세를 가지고 있음을 알 수 있다. \n"
   ]
  },
  {
   "cell_type": "code",
   "execution_count": null,
   "metadata": {
    "collapsed": true
   },
   "outputs": [],
   "source": [
    "# 5. Grade \n",
    "#영화 관람등급을 나타내는 변수이다. 관람등급의 경우 청소년 불가 관람이 있다면 \n",
    "#대상 관객수가 확연히 줄어드는 변수이다. 따라서 이 변수가 어느정도 영향을 끼칠 수 있다고 생각하낟. \n",
    "grade_temp = df[['Movie','Grade','Week5_Cum_audience']]\n",
    "grade_temp1 = grade_temp.groupby(['Grade'],as_index=False).median()"
   ]
  },
  {
   "cell_type": "code",
   "execution_count": null,
   "metadata": {
    "collapsed": false
   },
   "outputs": [],
   "source": [
    "grade_temp1\n",
    "#청소년 관람불가의 관객수가 매우 높음을 알 수 있다."
   ]
  },
  {
   "cell_type": "code",
   "execution_count": null,
   "metadata": {
    "collapsed": true
   },
   "outputs": [],
   "source": [
    "# 6. Rep_production \n"
   ]
  },
  {
   "cell_type": "code",
   "execution_count": null,
   "metadata": {
    "collapsed": true
   },
   "outputs": [],
   "source": []
  },
  {
   "cell_type": "code",
   "execution_count": null,
   "metadata": {
    "collapsed": true
   },
   "outputs": [],
   "source": []
  }
 ],
 "metadata": {
  "anaconda-cloud": {},
  "kernelspec": {
   "display_name": "Python [conda root]",
   "language": "python",
   "name": "conda-root-py"
  },
  "language_info": {
   "codemirror_mode": {
    "name": "ipython",
    "version": 3
   },
   "file_extension": ".py",
   "mimetype": "text/x-python",
   "name": "python",
   "nbconvert_exporter": "python",
   "pygments_lexer": "ipython3",
   "version": "3.5.2"
  }
 },
 "nbformat": 4,
 "nbformat_minor": 1
}
