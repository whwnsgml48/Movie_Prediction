{
 "cells": [
  {
   "cell_type": "code",
   "execution_count": 2,
   "metadata": {
    "collapsed": true
   },
   "outputs": [],
   "source": [
    "import numpy as np \n",
    "import pandas as pd \n",
    "import tensorflow as tf"
   ]
  },
  {
   "cell_type": "code",
   "execution_count": 5,
   "metadata": {
    "collapsed": false
   },
   "outputs": [],
   "source": [
    "#data load \n",
    "df = pd.read_csv('Train.csv', encoding = 'cp949')\n",
    "df.head()\n",
    "validation = pd.read_csv('Validation.csv', encoding = 'cp949')\n",
    "test = pd.read_csv('Test.csv', encoding = 'cp949')"
   ]
  },
  {
   "cell_type": "markdown",
   "metadata": {},
   "source": [
    "## 변수 설명\n",
    "1. Movie : 영화 제목\n",
    "\n",
    "2. Playdate : 개봉 날짜\n",
    "   Play_month : 개봉 월\n",
    "   Weekdays : 개봉 요일\n",
    "\n",
    "3. Rep_Nationality : 대표 국가\n",
    "\n",
    "4. Grade : 관람 등급\n",
    "\n",
    "5. Rep_production : 대표 제작사\n",
    "   Prod_grade : 제작사 등급\n",
    "   Prod_avg_grade : 제작사 평균 등급\n",
    "                    (제작사는 시나리오 선정, 투자자 물색, 배우 캐스팅 등의 역할을 맡는다.\n",
    "                     따라서 배우 등급, 배급사 등급, 감독 등급, 영화 평점 등을 반영하여 계산하였다.)\n",
    "\n",
    "6. Rep_distribution : 대표 배급사\n",
    "   Dist_grade : 배급사 등급\n",
    "                (우리나라의 경우 배급사가 메인 투자자인 경우가 많으며, 배급사가 스크린을 얼마나 확보하느냐에 따라 영화의 성과가 결정된다.\n",
    "                 따라서 배급사에 따른 개봉 첫째주의 스크린 수를 파악하여 이를 배급사의 등급으로 대체하였다.)\n",
    "\n",
    "7. Rep_genre : 대표 장르\n",
    "\n",
    "8. Rep_director : 대표 감독\n",
    "   Direc_avg_grade : 감독 평균 등급\n",
    "                     (감독 등급은 2년간 감독한 영화의 평균 평점으로 대체하였다.\n",
    "\n",
    "9. Rep_actor1 : 대표 배우1\n",
    "   Actor1_grade : 대표 배우1 등급\n",
    "   Rep_actor2 : 대표 배우2\n",
    "   Actor2_grade : 대표 배우2 등급\n",
    "   Rep_actor3 : 대표 배우3\n",
    "   Actor3_grade : 대표 배우3 등급\n",
    "   Rep_actor4 : 대표 배우4\n",
    "   Actor4_grade : 대표 배우4 등급\n",
    "   Rep_actor5 : 대표 배우5\n",
    "   Actor5_grade : 대표 배우5 등급\n",
    "                  (배우의 등급은 2년간 배우가 출연한 영화들의 2주차 평균 누적관객수를 변환한 값이다.)\n",
    "\n",
    "10. Critic_star : 평론가 평점\n",
    "\n",
    "11. Netizen_star_before_play : 개봉 전 네티즌 평점\n",
    "    Num_of_participants_before_play : 개봉 전 평가 참여 인원\n",
    "\n",
    "12. Netizen_star_after_play : 개봉 후 네티즌 평점\n",
    "\n",
    "13. Diff_netizen_star : 개봉 전/후 평점 차이\n",
    "\n",
    "14. Expect_index_wannasee : 개봉 전 기대지수(보고싶어요)\n",
    "    Expect_index_notreally : 개봉 전 기대지수(글쎄요)\n",
    "    Ratio_notreally : 글쎼요 비율\n",
    "\n",
    "15. Week1_isplay : 1주차 상영 여부\n",
    "    Week1_playdays : 1주차 상영일수\n",
    "    Week1_holiday : 1주차 공휴일수(주말 포함)\n",
    "    Week1_sales : 1주차 매출액\n",
    "    Week1_sales_share : 1주차 매출액 점유율\n",
    "    Week1_audience : 1주차 관객수\n",
    "    Week1_screen : 1주차 스크린수\n",
    "    Week1_Screening : 1주차 상영횟수\n",
    "\n",
    "## 과제 \n",
    "\n",
    "킹스맨2  0927 개봉\n",
    "남한산성 0930 개봉\n",
    "넛잡 1003 개봉\n",
    "\n",
    "\n",
    "**데이터를 기준으로 킹스맨2, 남한산성 => 1주차 데이터 안 스고 2주차 누적 관객 맞추기, 넛잡 => 1주차 데이터 안쓰고 1주차 누적관객수 맞추기 **\n",
    "\n",
    "각각에 대한 모델링을 따로 할필요가 있다. \n",
    "\n"
   ]
  },
  {
   "cell_type": "code",
   "execution_count": 6,
   "metadata": {
    "collapsed": false
   },
   "outputs": [
    {
     "ename": "AttributeError",
     "evalue": "'DataFrame' object has no attribute 'colums'",
     "output_type": "error",
     "traceback": [
      "\u001b[0;31m---------------------------------------------------------------------------\u001b[0m",
      "\u001b[0;31mAttributeError\u001b[0m                            Traceback (most recent call last)",
      "\u001b[0;32m<ipython-input-6-cd760edb755b>\u001b[0m in \u001b[0;36m<module>\u001b[0;34m()\u001b[0m\n\u001b[1;32m      1\u001b[0m \u001b[0;31m#파생 변수 생성\u001b[0m\u001b[0;34m\u001b[0m\u001b[0;34m\u001b[0m\u001b[0m\n\u001b[0;32m----> 2\u001b[0;31m \u001b[0mdf\u001b[0m\u001b[0;34m.\u001b[0m\u001b[0mcolums\u001b[0m\u001b[0;34m\u001b[0m\u001b[0m\n\u001b[0m",
      "\u001b[0;32m/home/junhee/anaconda3/lib/python3.5/site-packages/pandas/core/generic.py\u001b[0m in \u001b[0;36m__getattr__\u001b[0;34m(self, name)\u001b[0m\n\u001b[1;32m   2670\u001b[0m             \u001b[0;32mif\u001b[0m \u001b[0mname\u001b[0m \u001b[0;32min\u001b[0m \u001b[0mself\u001b[0m\u001b[0;34m.\u001b[0m\u001b[0m_info_axis\u001b[0m\u001b[0;34m:\u001b[0m\u001b[0;34m\u001b[0m\u001b[0m\n\u001b[1;32m   2671\u001b[0m                 \u001b[0;32mreturn\u001b[0m \u001b[0mself\u001b[0m\u001b[0;34m[\u001b[0m\u001b[0mname\u001b[0m\u001b[0;34m]\u001b[0m\u001b[0;34m\u001b[0m\u001b[0m\n\u001b[0;32m-> 2672\u001b[0;31m             \u001b[0;32mreturn\u001b[0m \u001b[0mobject\u001b[0m\u001b[0;34m.\u001b[0m\u001b[0m__getattribute__\u001b[0m\u001b[0;34m(\u001b[0m\u001b[0mself\u001b[0m\u001b[0;34m,\u001b[0m \u001b[0mname\u001b[0m\u001b[0;34m)\u001b[0m\u001b[0;34m\u001b[0m\u001b[0m\n\u001b[0m\u001b[1;32m   2673\u001b[0m \u001b[0;34m\u001b[0m\u001b[0m\n\u001b[1;32m   2674\u001b[0m     \u001b[0;32mdef\u001b[0m \u001b[0m__setattr__\u001b[0m\u001b[0;34m(\u001b[0m\u001b[0mself\u001b[0m\u001b[0;34m,\u001b[0m \u001b[0mname\u001b[0m\u001b[0;34m,\u001b[0m \u001b[0mvalue\u001b[0m\u001b[0;34m)\u001b[0m\u001b[0;34m:\u001b[0m\u001b[0;34m\u001b[0m\u001b[0m\n",
      "\u001b[0;31mAttributeError\u001b[0m: 'DataFrame' object has no attribute 'colums'"
     ]
    }
   ],
   "source": [
    "#파생 변수 생성 \n",
    "df.colum"
   ]
  },
  {
   "cell_type": "code",
   "execution_count": 3,
   "metadata": {
    "collapsed": false
   },
   "outputs": [
    {
     "data": {
      "image/png": "[encoded data removed]",
      "text/plain": [
       "<matplotlib.figure.Figure at 0x248a6b3b3c8>"
      ]
     },
     "metadata": {},
     "output_type": "display_data"
    }
   ],
   "source": [
    "#예측 변수에 대한 시각화\n",
    "import matplotlib.pyplot as plt \n",
    "\n",
    "audience_list = ['Week'+str(i)+'_audience' for i in range(1,3)]\n",
    "audience_data = df[audience_list]\n",
    "\n",
    "audience_data.boxplot()\n",
    "plt.show()\n",
    "#관객수가 1주차가 좀더 많은 것을 볼수 있다."
   ]
  },
  {
   "cell_type": "code",
   "execution_count": 6,
   "metadata": {
    "collapsed": false,
    "scrolled": true
   },
   "outputs": [
    {
     "data": {
      "image/png": "[encoded data removed]",
      "text/plain": [
       "<matplotlib.figure.Figure at 0x248a757ecc0>"
      ]
     },
     "metadata": {},
     "output_type": "display_data"
    }
   ],
   "source": [
    "#각 범주형 범수에 대해 파생변수를 생성한다. \n",
    "#1. Playdate \n",
    "#개봉일의 경우 개봉일에 따라 관객수에 영향을 끼친다는 것은 말이 되지 않는다고 판단하였다. \n",
    "#하지만 개봉일에 연휴가 낀 경우등 다른 변수에 의해 이 변수가 유의해질 수 있다고 생각했다. \n",
    "#그렇지만 연휴 등 다른 변수의 영향을 고려하기 위해 이에 해당하는 변수를 생성하기는 적합하지 \n",
    "#않다고 판단하여 이를 설명변수에서 제외하기로 했다. \n",
    "\n",
    "#2. Playmonth \n",
    "#개봉월에 대한 정보이다. 이 데이터를 활용하여 영화 관객수의 계절성을 파악해볼 수 있을 것이라고 \n",
    "#기대한다. \n",
    "#따라서 개봉월에 따른 첫주차 관객의 수를 평균으로 한 plot을 그려보고 계절성을 파악한다. \n",
    "temp = df[['Play_month', 'Week1_audience']]\n",
    "temp = temp.groupby(['Play_month'], as_index = False).median()\n",
    "#outlier로 정보가 왜곡될수 있으므로 median을 이용하여 aggregate한다. \n",
    "plt.plot(temp['Play_month'],temp['Week1_audience'])\n",
    "plt.show()\n",
    "#겨울 방학 시즌의 관객수가 많은 것을 볼 수 있다."
   ]
  },
  {
   "cell_type": "code",
   "execution_count": 17,
   "metadata": {
    "collapsed": false,
    "scrolled": true
   },
   "outputs": [
    {
     "name": "stdout",
     "output_type": "stream",
     "text": [
      "  Weekdays  Week1_audience\n",
      "0      금요일           528.0\n",
      "1      목요일          7624.0\n",
      "2      수요일        102588.5\n",
      "3      월요일           252.0\n",
      "4      일요일           552.0\n",
      "5      토요일           200.0\n",
      "6      화요일         14689.5\n"
     ]
    }
   ],
   "source": [
    "# 3. Weekdays \n",
    "#개봉일의 요일 정보를 담고 있다. \n",
    "#개봉일 요일 정보는 첫째주 관객수와 관련되어 있을 수 있다는 생각이 들어 이를 확인해본다.\n",
    "\n",
    "temp = df[['Weekdays', 'Week1_audience']]\n",
    "temp = temp.groupby(['Weekdays'], as_index = False).median()\n",
    "print(temp)\n",
    "#단순히 결과를 보면 수목이 월등하게 많기 때문에 어느정도 관련이 있다고 생각할 수 있지만 \n",
    "#데이터를 살펴보니 수,목에 해당하지 않는 영화는 59개만 존재함을 알 수 있다. \n",
    "#따라서 단순히 이 결과만을 보고 개봉요일이 영화관객수에 영향을 끼친다고 판단하기 어렵다\n",
    "#따라서 이를 삭제한다."
   ]
  },
  {
   "cell_type": "code",
   "execution_count": 18,
   "metadata": {
    "collapsed": false
   },
   "outputs": [],
   "source": [
    "# 4. Rep_Nationality\n",
    "#영화의 대표국적을 나타낸다. 대표국적은 꽤 영향을 끼치수 있다고 생각했다. \n",
    "#왜냐하면 우리나라는 스크린쿼터제가 적용되고 있는 나라중 하나이기 때문이다. \n",
    "#스크린쿼터제란 미국 및 유럽 영화들의 지나친 비중과 상영횟수를 방지하여 한국여화를 보호하는 \n",
    "#법으로 규제화한 것이다.\n",
    "nation_temp = df[['Movie','Rep_Nationality','Week5_Cum_audience']]\n",
    "nation_temp.groupby(['Rep_Nationality'], as_index = False).count()\n",
    "nation_temp1= nation_temp.groupby(['Rep_Nationality'], as_index=False).agg({'Movie':'count','Week5_Cum_audience':'median'})"
   ]
  },
  {
   "cell_type": "code",
   "execution_count": 19,
   "metadata": {
    "collapsed": false
   },
   "outputs": [
    {
     "data": {
      "text/html": [
       "<div>\n",
       "<style>\n",
       "    .dataframe thead tr:only-child th {\n",
       "        text-align: right;\n",
       "    }\n",
       "\n",
       "    .dataframe thead th {\n",
       "        text-align: left;\n",
       "    }\n",
       "\n",
       "    .dataframe tbody tr th {\n",
       "        vertical-align: top;\n",
       "    }\n",
       "</style>\n",
       "<table border=\"1\" class=\"dataframe\">\n",
       "  <thead>\n",
       "    <tr style=\"text-align: right;\">\n",
       "      <th></th>\n",
       "      <th>Rep_Nationality</th>\n",
       "      <th>Movie</th>\n",
       "      <th>Week5_Cum_audience</th>\n",
       "    </tr>\n",
       "  </thead>\n",
       "  <tbody>\n",
       "    <tr>\n",
       "      <th>0</th>\n",
       "      <td>기타</td>\n",
       "      <td>107</td>\n",
       "      <td>7742.0</td>\n",
       "    </tr>\n",
       "    <tr>\n",
       "      <th>1</th>\n",
       "      <td>독일/영국/프랑스</td>\n",
       "      <td>157</td>\n",
       "      <td>7366.0</td>\n",
       "    </tr>\n",
       "    <tr>\n",
       "      <th>2</th>\n",
       "      <td>미국/캐나다/호주</td>\n",
       "      <td>349</td>\n",
       "      <td>69101.0</td>\n",
       "    </tr>\n",
       "    <tr>\n",
       "      <th>3</th>\n",
       "      <td>일본/중국</td>\n",
       "      <td>166</td>\n",
       "      <td>11127.0</td>\n",
       "    </tr>\n",
       "    <tr>\n",
       "      <th>4</th>\n",
       "      <td>한국</td>\n",
       "      <td>304</td>\n",
       "      <td>54753.5</td>\n",
       "    </tr>\n",
       "  </tbody>\n",
       "</table>\n",
       "</div>"
      ],
      "text/plain": [
       "  Rep_Nationality  Movie  Week5_Cum_audience\n",
       "0              기타    107              7742.0\n",
       "1       독일/영국/프랑스    157              7366.0\n",
       "2       미국/캐나다/호주    349             69101.0\n",
       "3           일본/중국    166             11127.0\n",
       "4              한국    304             54753.5"
      ]
     },
     "execution_count": 19,
     "metadata": {},
     "output_type": "execute_result"
    }
   ],
   "source": [
    "nation_temp1\n",
    "#대표국적의 경우 미국/캐나다/호주권 영화와 한국권 영화가 강세를 가지고 있음을 알 수 있다."
   ]
  },
  {
   "cell_type": "code",
   "execution_count": 20,
   "metadata": {
    "collapsed": true
   },
   "outputs": [],
   "source": [
    "# 5. Grade \n",
    "#영화 관람등급을 나타내는 변수이다. 관람등급의 경우 청소년 불가 관람이 있다면 \n",
    "#대상 관객수가 확연히 줄어드는 변수이다. 따라서 이 변수가 어느정도 영향을 끼칠 수 있다고 생각하낟. \n",
    "grade_temp = df[['Movie','Grade','Week5_Cum_audience']]\n",
    "grade_temp1 = grade_temp.groupby(['Grade'],as_index=False).median()"
   ]
  },
  {
   "cell_type": "code",
   "execution_count": 21,
   "metadata": {
    "collapsed": false
   },
   "outputs": [
    {
     "data": {
      "text/html": [
       "<div>\n",
       "<style>\n",
       "    .dataframe thead tr:only-child th {\n",
       "        text-align: right;\n",
       "    }\n",
       "\n",
       "    .dataframe thead th {\n",
       "        text-align: left;\n",
       "    }\n",
       "\n",
       "    .dataframe tbody tr th {\n",
       "        vertical-align: top;\n",
       "    }\n",
       "</style>\n",
       "<table border=\"1\" class=\"dataframe\">\n",
       "  <thead>\n",
       "    <tr style=\"text-align: right;\">\n",
       "      <th></th>\n",
       "      <th>Grade</th>\n",
       "      <th>Week5_Cum_audience</th>\n",
       "    </tr>\n",
       "  </thead>\n",
       "  <tbody>\n",
       "    <tr>\n",
       "      <th>0</th>\n",
       "      <td>12세이상관람가</td>\n",
       "      <td>22469.5</td>\n",
       "    </tr>\n",
       "    <tr>\n",
       "      <th>1</th>\n",
       "      <td>15세이상관람가</td>\n",
       "      <td>17712.0</td>\n",
       "    </tr>\n",
       "    <tr>\n",
       "      <th>2</th>\n",
       "      <td>전체관람가</td>\n",
       "      <td>14993.0</td>\n",
       "    </tr>\n",
       "    <tr>\n",
       "      <th>3</th>\n",
       "      <td>청소년관람불가</td>\n",
       "      <td>76082.0</td>\n",
       "    </tr>\n",
       "  </tbody>\n",
       "</table>\n",
       "</div>"
      ],
      "text/plain": [
       "      Grade  Week5_Cum_audience\n",
       "0  12세이상관람가             22469.5\n",
       "1  15세이상관람가             17712.0\n",
       "2     전체관람가             14993.0\n",
       "3   청소년관람불가             76082.0"
      ]
     },
     "execution_count": 21,
     "metadata": {},
     "output_type": "execute_result"
    }
   ],
   "source": [
    "grade_temp1\n",
    "#청소년 관람불가의 관객수가 매우 높음을 알 수 있다."
   ]
  },
  {
   "cell_type": "code",
   "execution_count": 22,
   "metadata": {
    "collapsed": true
   },
   "outputs": [],
   "source": [
    "# 6. Rep_production\n",
    "#제작사의 경우 시나리오 선택, 배우 캐스팅, 투자자 물색 등의 역할을 한다. \n",
    "#따라서 제작사의 힘을 힘을 나타내기 위해 배우 배급사 감독 등을 반영하도록 한다. \n",
    "\n"
   ]
  },
  {
   "cell_type": "code",
   "execution_count": 30,
   "metadata": {
    "collapsed": false
   },
   "outputs": [
    {
     "data": {
      "text/plain": [
       "Index(['Movie', 'Playdate', 'Play_month', 'Weekdays', 'Rep_Nationality',\n",
       "       'Grade', 'Rep_production', 'Rep_distributor', 'Rep_genre',\n",
       "       'Rep_director', 'Rep_actor1', 'Rep_actor2', 'Rep_actor3', 'Rep_actor4',\n",
       "       'Rep_actor5', 'Critic_star', 'Netizen_star_before_play',\n",
       "       'Num_of_participants_before_play', 'Netizen_star_after_play',\n",
       "       'Expect_index_wannasee', 'Expect_index_notreally', 'Week1_isplay',\n",
       "       'Week1_playdays', 'Week1_holiday', 'Week1_sales', 'Week1_sales_share',\n",
       "       'Week1_audience', 'Week1_screen', 'Week1_screening', 'Week2_isplay',\n",
       "       'Week2_holiday', 'Week2_sales', 'Week2_sales_share', 'Week2_audience',\n",
       "       'Week2_screen', 'Week2_screening', 'Week3_holiday', 'Week4_holiday',\n",
       "       'Week2_Cum_audience', 'Week3_Cum_audience', 'Week4_Cum_audience',\n",
       "       'Week5_Cum_audience', 'year'],\n",
       "      dtype='object')"
      ]
     },
     "execution_count": 30,
     "metadata": {},
     "output_type": "execute_result"
    }
   ],
   "source": [
    "# 7. Rep_distribution\n",
    "# 대표 배급사 배급사의 경우 스크린의 수를 이용하여 관련 변수를 생성하도록 한다. \n",
    "temp_dist = df[['']]"
   ]
  },
  {
   "cell_type": "code",
   "execution_count": 24,
   "metadata": {
    "collapsed": true
   },
   "outputs": [],
   "source": [
    "# 8. Rep_genre \n",
    "#장르에 따른 1주차 관객수를 시각화해보도록 한다. "
   ]
  },
  {
   "cell_type": "code",
   "execution_count": 25,
   "metadata": {
    "collapsed": true
   },
   "outputs": [],
   "source": [
    "# 9. Rep_direcxtor \n",
    "# 감독의 경우 영화의 평균 평점을 이용하여 파생 변수를 생성하도록 하낟. "
   ]
  },
  {
   "cell_type": "code",
   "execution_count": 26,
   "metadata": {
    "collapsed": true
   },
   "outputs": [],
   "source": [
    "# 10. Rep_actor \n",
    "# 배우 역시 감독과 같이 평균 평점을 이용하여 파생 변수를 생성한다. \n"
   ]
  },
  {
   "cell_type": "code",
   "execution_count": 27,
   "metadata": {
    "collapsed": true
   },
   "outputs": [],
   "source": [
    "# 11. Critic star \n",
    "# 평론가 평점은 그대로 이용해보도록 한다. "
   ]
  },
  {
   "cell_type": "code",
   "execution_count": 28,
   "metadata": {
    "collapsed": true
   },
   "outputs": [],
   "source": [
    "# 12 ~\n",
    "#이후 평점은 그대로 사용한다. "
   ]
  },
  {
   "cell_type": "code",
   "execution_count": null,
   "metadata": {
    "collapsed": true
   },
   "outputs": [],
   "source": []
  },
  {
   "cell_type": "code",
   "execution_count": null,
   "metadata": {
    "collapsed": true
   },
   "outputs": [],
   "source": []
  },
  {
   "cell_type": "code",
   "execution_count": null,
   "metadata": {
    "collapsed": true
   },
   "outputs": [],
   "source": []
  }
 ],
 "metadata": {
  "anaconda-cloud": {},
  "kernelspec": {
   "display_name": "Python [conda root]",
   "language": "python",
   "name": "conda-root-py"
  },
  "language_info": {
   "codemirror_mode": {
    "name": "ipython",
    "version": 3
   },
   "file_extension": ".py",
   "mimetype": "text/x-python",
   "name": "python",
   "nbconvert_exporter": "python",
   "pygments_lexer": "ipython3",
   "version": "3.5.2"
  }
 },
 "nbformat": 4,
 "nbformat_minor": 0
}
